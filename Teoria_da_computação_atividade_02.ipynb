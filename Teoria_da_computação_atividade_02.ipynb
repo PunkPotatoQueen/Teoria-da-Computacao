{
  "nbformat": 4,
  "nbformat_minor": 0,
  "metadata": {
    "colab": {
      "provenance": [],
      "authorship_tag": "ABX9TyOqSoMY4HI8EhR9sccAFmfg",
      "include_colab_link": true
    },
    "kernelspec": {
      "name": "python3",
      "display_name": "Python 3"
    },
    "language_info": {
      "name": "python"
    }
  },
  "cells": [
    {
      "cell_type": "markdown",
      "metadata": {
        "id": "view-in-github",
        "colab_type": "text"
      },
      "source": [
        "<a href=\"https://colab.research.google.com/github/PunkPotatoQueen/Teoria-da-Computacao/blob/main/Teoria_da_computa%C3%A7%C3%A3o_atividade_02.ipynb\" target=\"_parent\"><img src=\"https://colab.research.google.com/assets/colab-badge.svg\" alt=\"Open In Colab\"/></a>"
      ]
    },
    {
      "cell_type": "code",
      "source": [
        "%%writefile App.java\n",
        "\n",
        "import java.util.ArrayList;\n",
        "\n",
        "public class App {\n",
        "    private ArrayList<Integer> pilha;\n",
        "\n",
        "    public App(){\n",
        "        pilha = new ArrayList<>();\n",
        "    }\n",
        "\n",
        "    public void push(int valor) {\n",
        "        pilha.add(valor);\n",
        "    }\n",
        "\n",
        "    public int pop() {\n",
        "        if (pilha.isEmpty()) {\n",
        "            System.out.println(\"A pilha está vazia.\");\n",
        "            return -1;\n",
        "        }\n",
        "        return pilha.remove(pilha.size() - 1);\n",
        "    }\n",
        "\n",
        "    public void imprimirPilha() {\n",
        "        if (pilha.isEmpty()) {\n",
        "            System.out.println(\"A pilha está vazia.\");\n",
        "        } else {\n",
        "            System.out.println(\"Pilha:\");\n",
        "            for (int i = pilha.size() - 1; i >= 0; i--) {\n",
        "                System.out.println(pilha.get(i));\n",
        "            }\n",
        "        }\n",
        "    }\n",
        "\n",
        "    public static void main(String[] args) {\n",
        "        App minhaPilha = new App();\n",
        "\n",
        "        minhaPilha.push(3);\n",
        "        minhaPilha.push(2);\n",
        "        minhaPilha.push(1);\n",
        "        System.out.println(\"Atividade de Pedro Henrique de Almeida Santos e Izadora Freitas Oliveira \");\n",
        "        minhaPilha.imprimirPilha();\n",
        "\n",
        "        minhaPilha.pop();\n",
        "        minhaPilha.imprimirPilha();\n",
        "    }\n",
        "}\n",
        "\n"
      ],
      "metadata": {
        "colab": {
          "base_uri": "https://localhost:8080/"
        },
        "id": "JcO7y8iautSi",
        "outputId": "0f29f3b9-5ac1-490f-8717-5d5e79fc72f2"
      },
      "execution_count": 21,
      "outputs": [
        {
          "output_type": "stream",
          "name": "stdout",
          "text": [
            "Overwriting App.java\n"
          ]
        }
      ]
    },
    {
      "cell_type": "code",
      "source": [
        "!javac App.java\n",
        "\n"
      ],
      "metadata": {
        "id": "gfN5lO2ECV4q"
      },
      "execution_count": 24,
      "outputs": []
    },
    {
      "cell_type": "code",
      "source": [
        "!java App\n"
      ],
      "metadata": {
        "colab": {
          "base_uri": "https://localhost:8080/"
        },
        "id": "AzBqvYUkCiZD",
        "outputId": "75862b41-4239-423a-90ad-1c6c7e035517"
      },
      "execution_count": 25,
      "outputs": [
        {
          "output_type": "stream",
          "name": "stdout",
          "text": [
            "Atividade de Pedro Henrique de Almeida Santos e Izadora Freitas Oliveira \n",
            "Pilha:\n",
            "1\n",
            "2\n",
            "3\n",
            "Pilha:\n",
            "2\n",
            "3\n"
          ]
        }
      ]
    }
  ]
}