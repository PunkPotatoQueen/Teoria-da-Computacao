{
  "nbformat": 4,
  "nbformat_minor": 0,
  "metadata": {
    "colab": {
      "provenance": [],
      "authorship_tag": "ABX9TyOqB6sFFPjelzbCH9p5agCd",
      "include_colab_link": true
    },
    "kernelspec": {
      "name": "python3",
      "display_name": "Python 3"
    },
    "language_info": {
      "name": "python"
    }
  },
  "cells": [
    {
      "cell_type": "markdown",
      "metadata": {
        "id": "view-in-github",
        "colab_type": "text"
      },
      "source": [
        "<a href=\"https://colab.research.google.com/github/PunkPotatoQueen/Teoria-da-Computacao/blob/main/Teoria_da_computa%C3%A7%C3%A3o_atividade_01.ipynb\" target=\"_parent\"><img src=\"https://colab.research.google.com/assets/colab-badge.svg\" alt=\"Open In Colab\"/></a>"
      ]
    },
    {
      "cell_type": "code",
      "execution_count": 3,
      "metadata": {
        "colab": {
          "base_uri": "https://localhost:8080/"
        },
        "id": "UIFQB3tpFxvO",
        "outputId": "250f62cf-a5f4-498a-de0f-3ea640a60f85"
      },
      "outputs": [
        {
          "output_type": "stream",
          "name": "stdout",
          "text": [
            "10 inserido na lista.\n",
            "20 inserido na lista.\n",
            "40 inserido na lista.\n",
            "80 inserido na lista.\n",
            "Lista: [10, 20, 40, 80]\n",
            "10 removido da lista.\n",
            "Lista: [20, 40, 80]\n",
            "30 não está na lista.\n",
            "Lista: [20, 40, 80]\n"
          ]
        }
      ],
      "source": [
        "# Atividade 01: Criar código que implemente uma lista, operações de:\n",
        "# 1. inserir valor\n",
        "# 2. remove\n",
        "# 3. imprimir a lista\n",
        "\n",
        "class MinhaLista:\n",
        "    def __init__(self):\n",
        "        self.lista = []\n",
        "\n",
        "    def inserir(self, valor):\n",
        "        self.lista.append(valor)\n",
        "        print(f'{valor} inserido na lista.')\n",
        "\n",
        "    def remover(self, valor):\n",
        "        if valor in self.lista:\n",
        "            self.lista.remove(valor)\n",
        "            print(f'{valor} removido da lista.')\n",
        "        else:\n",
        "            print(f'{valor} não está na lista.')\n",
        "\n",
        "    def imprimir(self):\n",
        "        if self.lista:\n",
        "            print('Lista:', self.lista)\n",
        "        else:\n",
        "            print('A lista está vazia.')\n",
        "\n",
        "# Exemplo de uso:\n",
        "minha_lista = MinhaLista()\n",
        "minha_lista.inserir(10)\n",
        "minha_lista.inserir(20)\n",
        "minha_lista.inserir(40)\n",
        "minha_lista.inserir(80)\n",
        "minha_lista.imprimir()\n",
        "minha_lista.remover(10)\n",
        "minha_lista.imprimir()\n",
        "minha_lista.remover(30)\n",
        "minha_lista.imprimir()\n"
      ]
    }
  ]
}