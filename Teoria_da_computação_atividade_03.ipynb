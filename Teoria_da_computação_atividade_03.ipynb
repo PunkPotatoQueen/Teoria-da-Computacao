{
  "nbformat": 4,
  "nbformat_minor": 0,
  "metadata": {
    "colab": {
      "provenance": [],
      "authorship_tag": "ABX9TyPIZXu6FlXk65HKoSW3rAA0",
      "include_colab_link": true
    },
    "kernelspec": {
      "name": "python3",
      "display_name": "Python 3"
    },
    "language_info": {
      "name": "python"
    }
  },
  "cells": [
    {
      "cell_type": "markdown",
      "metadata": {
        "id": "view-in-github",
        "colab_type": "text"
      },
      "source": [
        "<a href=\"https://colab.research.google.com/github/PunkPotatoQueen/Teoria-da-Computacao/blob/main/Teoria_da_computa%C3%A7%C3%A3o_atividade_03.ipynb\" target=\"_parent\"><img src=\"https://colab.research.google.com/assets/colab-badge.svg\" alt=\"Open In Colab\"/></a>"
      ]
    },
    {
      "cell_type": "code",
      "execution_count": 1,
      "metadata": {
        "colab": {
          "base_uri": "https://localhost:8080/"
        },
        "id": "VZ07oZu3C_Eg",
        "outputId": "5176f263-c13b-40db-f567-d039f090e85f"
      },
      "outputs": [
        {
          "output_type": "stream",
          "name": "stdout",
          "text": [
            "Semáforo está Verde\n",
            "Semáforo está Amarelo\n",
            "Semáforo está Vermelho\n"
          ]
        }
      ],
      "source": [
        "class SemaforoFSM:\n",
        "    def __init__(self):\n",
        "        self.estado = 'Vermelho'  # Estado inicial\n",
        "\n",
        "    def ao_evento(self, evento):\n",
        "        if self.estado == 'Vermelho':\n",
        "            if evento == 'temporizador_expirou':\n",
        "                self.estado = 'Verde'\n",
        "                self.acao_verde()\n",
        "        elif self.estado == 'Verde':\n",
        "            if evento == 'temporizador_expirou':\n",
        "                self.estado = 'Amarelo'\n",
        "                self.acao_amarelo()\n",
        "        elif self.estado == 'Amarelo':\n",
        "            if evento == 'temporizador_expirou':\n",
        "                self.estado = 'Vermelho'\n",
        "                self.acao_vermelho()\n",
        "\n",
        "    def acao_vermelho(self):\n",
        "        print(\"Semáforo está Vermelho\")\n",
        "\n",
        "    def acao_verde(self):\n",
        "        print(\"Semáforo está Verde\")\n",
        "\n",
        "    def acao_amarelo(self):\n",
        "        print(\"Semáforo está Amarelo\")\n",
        "\n",
        "# Exemplo de uso\n",
        "semaforo = SemaforoFSM()\n",
        "semaforo.ao_evento('temporizador_expirou')  # Transição para Verde\n",
        "semaforo.ao_evento('temporizador_expirou')  # Transição para Amarelo\n",
        "semaforo.ao_evento('temporizador_expirou')  # Transição para Vermelho\n"
      ]
    }
  ]
}